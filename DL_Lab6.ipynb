{
  "nbformat": 4,
  "nbformat_minor": 0,
  "metadata": {
    "kernelspec": {
      "display_name": "Python 3",
      "language": "python",
      "name": "python3"
    },
    "language_info": {
      "codemirror_mode": {
        "name": "ipython",
        "version": 3
      },
      "file_extension": ".py",
      "mimetype": "text/x-python",
      "name": "python",
      "nbconvert_exporter": "python",
      "pygments_lexer": "ipython3",
      "version": "3.7.6"
    },
    "colab": {
      "name": "DL_Lab6.ipynb",
      "provenance": []
    },
    "accelerator": "GPU"
  },
  "cells": [
    {
      "cell_type": "code",
      "metadata": {
        "id": "3gLdQz32Qoa4",
        "colab_type": "code",
        "colab": {}
      },
      "source": [
        "import tensorflow as tf\n",
        "from tensorflow.keras.layers import Conv2D, MaxPool2D, Flatten, Dense,Input\n",
        "from tensorflow.keras.models import Sequential\n",
        "import numpy as np\n",
        "import pandas as pd\n",
        "import time\n",
        "import keras"
      ],
      "execution_count": null,
      "outputs": []
    },
    {
      "cell_type": "code",
      "metadata": {
        "id": "EsBmvC1fQoa7",
        "colab_type": "code",
        "colab": {
          "base_uri": "https://localhost:8080/",
          "height": 51
        },
        "outputId": "62dcfa53-98bd-462a-e0d7-66a93f6b4a06"
      },
      "source": [
        "import seaborn as sns\n",
        "import matplotlib.pyplot as plt"
      ],
      "execution_count": null,
      "outputs": [
        {
          "output_type": "stream",
          "text": [
            "/usr/local/lib/python3.6/dist-packages/statsmodels/tools/_testing.py:19: FutureWarning: pandas.util.testing is deprecated. Use the functions in the public API at pandas.testing instead.\n",
            "  import pandas.util.testing as tm\n"
          ],
          "name": "stderr"
        }
      ]
    },
    {
      "cell_type": "code",
      "metadata": {
        "id": "QKJEIT0nQoa-",
        "colab_type": "code",
        "colab": {
          "base_uri": "https://localhost:8080/",
          "height": 35
        },
        "outputId": "ae0e138a-619a-4cfe-9d49-5d7c602d3f88"
      },
      "source": [
        "tf.test.gpu_device_name()"
      ],
      "execution_count": null,
      "outputs": [
        {
          "output_type": "execute_result",
          "data": {
            "application/vnd.google.colaboratory.intrinsic+json": {
              "type": "string"
            },
            "text/plain": [
              "'/device:GPU:0'"
            ]
          },
          "metadata": {
            "tags": []
          },
          "execution_count": 5
        }
      ]
    },
    {
      "cell_type": "code",
      "metadata": {
        "id": "zu3T2ZtrQobA",
        "colab_type": "code",
        "colab": {
          "base_uri": "https://localhost:8080/",
          "height": 51
        },
        "outputId": "a55e90f2-1ee2-4641-9381-8818dce2adac"
      },
      "source": [
        "(X_train, y_train), (X_test, y_test) = keras.datasets.mnist.load_data()"
      ],
      "execution_count": null,
      "outputs": [
        {
          "output_type": "stream",
          "text": [
            "Downloading data from https://storage.googleapis.com/tensorflow/tf-keras-datasets/mnist.npz\n",
            "11493376/11490434 [==============================] - 0s 0us/step\n"
          ],
          "name": "stdout"
        }
      ]
    },
    {
      "cell_type": "code",
      "metadata": {
        "id": "TbOCISIcQobC",
        "colab_type": "code",
        "colab": {
          "base_uri": "https://localhost:8080/",
          "height": 34
        },
        "outputId": "0efb6b8c-b23b-46b0-cdfb-81a2342f75bf"
      },
      "source": [
        "X_train.shape"
      ],
      "execution_count": null,
      "outputs": [
        {
          "output_type": "execute_result",
          "data": {
            "text/plain": [
              "(60000, 28, 28)"
            ]
          },
          "metadata": {
            "tags": []
          },
          "execution_count": 14
        }
      ]
    },
    {
      "cell_type": "code",
      "metadata": {
        "id": "cqr_xwpPQobE",
        "colab_type": "code",
        "colab": {
          "base_uri": "https://localhost:8080/",
          "height": 34
        },
        "outputId": "09e80e68-a4b5-4bd3-bb8a-acb83eec9513"
      },
      "source": [
        "y_train.shape"
      ],
      "execution_count": null,
      "outputs": [
        {
          "output_type": "execute_result",
          "data": {
            "text/plain": [
              "(60000,)"
            ]
          },
          "metadata": {
            "tags": []
          },
          "execution_count": 15
        }
      ]
    },
    {
      "cell_type": "code",
      "metadata": {
        "id": "L-2E9ffiQobG",
        "colab_type": "code",
        "colab": {}
      },
      "source": [
        "X_train = X_train.astype(\"float32\") / 255\n",
        "X_test = X_test.astype(\"float32\") / 255\n",
        "X_train = np.expand_dims(X_train, -1)\n",
        "X_test = np.expand_dims(X_test, -1)"
      ],
      "execution_count": null,
      "outputs": []
    },
    {
      "cell_type": "code",
      "metadata": {
        "id": "ELmHjncyQobI",
        "colab_type": "code",
        "colab": {}
      },
      "source": [
        "y_train = keras.utils.to_categorical(y_train, 10)\n",
        "y_test = keras.utils.to_categorical(y_test, 10)"
      ],
      "execution_count": null,
      "outputs": []
    },
    {
      "cell_type": "code",
      "metadata": {
        "id": "cWxnyb-FQobK",
        "colab_type": "code",
        "colab": {
          "base_uri": "https://localhost:8080/",
          "height": 34
        },
        "outputId": "2bd41205-109f-4c83-9148-15a8094413f6"
      },
      "source": [
        "X_train.shape"
      ],
      "execution_count": null,
      "outputs": [
        {
          "output_type": "execute_result",
          "data": {
            "text/plain": [
              "(60000, 28, 28, 1)"
            ]
          },
          "metadata": {
            "tags": []
          },
          "execution_count": 18
        }
      ]
    },
    {
      "cell_type": "code",
      "metadata": {
        "id": "jM245t_iQobM",
        "colab_type": "code",
        "colab": {
          "base_uri": "https://localhost:8080/",
          "height": 34
        },
        "outputId": "c5d4a652-1876-4ea5-ac4d-1f0645f8343d"
      },
      "source": [
        "y_train.shape"
      ],
      "execution_count": null,
      "outputs": [
        {
          "output_type": "execute_result",
          "data": {
            "text/plain": [
              "(60000, 10)"
            ]
          },
          "metadata": {
            "tags": []
          },
          "execution_count": 19
        }
      ]
    },
    {
      "cell_type": "code",
      "metadata": {
        "id": "JH5Fh0y3QobO",
        "colab_type": "code",
        "colab": {}
      },
      "source": [
        "params=[]\n",
        "timess=[]\n",
        "test_acc=[]\n",
        "train_acc=[]"
      ],
      "execution_count": null,
      "outputs": []
    },
    {
      "cell_type": "markdown",
      "metadata": {
        "id": "5K-sOKz8QobS",
        "colab_type": "text"
      },
      "source": [
        "# Different number of filters"
      ]
    },
    {
      "cell_type": "code",
      "metadata": {
        "id": "SQWkjXmrQobS",
        "colab_type": "code",
        "colab": {}
      },
      "source": [
        "filters = [4, 32, 128, 512, 2056]"
      ],
      "execution_count": null,
      "outputs": []
    },
    {
      "cell_type": "code",
      "metadata": {
        "id": "0PdEuYJtQobU",
        "colab_type": "code",
        "colab": {
          "base_uri": "https://localhost:8080/",
          "height": 1000
        },
        "outputId": "26210dc3-f083-46b6-ffbd-2a425d2e5172"
      },
      "source": [
        "for i in filters:\n",
        "    model= Sequential()\n",
        "    model.add(Input(shape=(28,28,1)))\n",
        "    model.add(Conv2D(i,(3,3),activation='relu'))\n",
        "    model.add(Flatten())\n",
        "    model.add(Dense(10,activation='softmax'))\n",
        "    model.compile(optimizer='adam',loss='categorical_crossentropy',metrics=['accuracy'])\n",
        "    t=time.time()\n",
        "    model.fit(X_train,y_train,epochs=5)\n",
        "    timess.append(time.time()-t)\n",
        "    b=model.evaluate(X_train,y_train)\n",
        "    a=model.evaluate(X_test,y_test)\n",
        "    \n",
        "    train_acc.append(b[1])\n",
        "    test_acc.append(a[1])\n",
        "    params.append(model.count_params())"
      ],
      "execution_count": null,
      "outputs": [
        {
          "output_type": "stream",
          "text": [
            "Epoch 1/5\n",
            "1875/1875 [==============================] - 14s 8ms/step - loss: 0.3187 - accuracy: 0.9111\n",
            "Epoch 2/5\n",
            "1875/1875 [==============================] - 14s 8ms/step - loss: 0.1666 - accuracy: 0.9527\n",
            "Epoch 3/5\n",
            "1875/1875 [==============================] - 14s 8ms/step - loss: 0.1157 - accuracy: 0.9674\n",
            "Epoch 4/5\n",
            "1875/1875 [==============================] - 14s 7ms/step - loss: 0.0909 - accuracy: 0.9736\n",
            "Epoch 5/5\n",
            "1875/1875 [==============================] - 14s 8ms/step - loss: 0.0740 - accuracy: 0.9781\n",
            "1875/1875 [==============================] - 8s 4ms/step - loss: 0.0630 - accuracy: 0.9818\n",
            "313/313 [==============================] - 2s 5ms/step - loss: 0.0901 - accuracy: 0.9723\n",
            "Epoch 1/5\n",
            "1875/1875 [==============================] - 26s 14ms/step - loss: 0.1742 - accuracy: 0.9489\n",
            "Epoch 2/5\n",
            "1875/1875 [==============================] - 26s 14ms/step - loss: 0.0667 - accuracy: 0.9799\n",
            "Epoch 3/5\n",
            "1875/1875 [==============================] - 26s 14ms/step - loss: 0.0486 - accuracy: 0.9849\n",
            "Epoch 4/5\n",
            "1875/1875 [==============================] - 26s 14ms/step - loss: 0.0359 - accuracy: 0.9888\n",
            "Epoch 5/5\n",
            "1875/1875 [==============================] - 26s 14ms/step - loss: 0.0275 - accuracy: 0.9914\n",
            "1875/1875 [==============================] - 11s 6ms/step - loss: 0.0181 - accuracy: 0.9949\n",
            "313/313 [==============================] - 2s 6ms/step - loss: 0.0595 - accuracy: 0.9810\n",
            "Epoch 1/5\n",
            "1875/1875 [==============================] - 60s 32ms/step - loss: 0.1431 - accuracy: 0.9577\n",
            "Epoch 2/5\n",
            "1875/1875 [==============================] - 60s 32ms/step - loss: 0.0560 - accuracy: 0.9832\n",
            "Epoch 3/5\n",
            "1875/1875 [==============================] - 59s 32ms/step - loss: 0.0380 - accuracy: 0.9880\n",
            "Epoch 4/5\n",
            "1875/1875 [==============================] - 60s 32ms/step - loss: 0.0235 - accuracy: 0.9926\n",
            "Epoch 5/5\n",
            "1875/1875 [==============================] - 61s 33ms/step - loss: 0.0165 - accuracy: 0.9944\n",
            "1875/1875 [==============================] - 18s 10ms/step - loss: 0.0111 - accuracy: 0.9966\n",
            "313/313 [==============================] - 3s 10ms/step - loss: 0.0712 - accuracy: 0.9804\n",
            "Epoch 1/5\n",
            "1875/1875 [==============================] - 214s 114ms/step - loss: 0.1313 - accuracy: 0.9603\n",
            "Epoch 2/5\n",
            "1875/1875 [==============================] - 216s 115ms/step - loss: 0.0529 - accuracy: 0.9845\n",
            "Epoch 3/5\n",
            "1875/1875 [==============================] - 216s 115ms/step - loss: 0.0313 - accuracy: 0.9900\n",
            "Epoch 4/5\n",
            "1875/1875 [==============================] - 216s 115ms/step - loss: 0.0192 - accuracy: 0.9938\n",
            "Epoch 5/5\n",
            "1875/1875 [==============================] - 215s 115ms/step - loss: 0.0140 - accuracy: 0.9951\n",
            "1875/1875 [==============================] - 52s 28ms/step - loss: 0.0102 - accuracy: 0.9965\n",
            "313/313 [==============================] - 9s 28ms/step - loss: 0.0788 - accuracy: 0.9808\n",
            "Epoch 1/5\n",
            "1875/1875 [==============================] - 803s 428ms/step - loss: 0.1328 - accuracy: 0.9592\n",
            "Epoch 2/5\n",
            "1875/1875 [==============================] - 811s 433ms/step - loss: 0.0552 - accuracy: 0.9829\n",
            "Epoch 3/5\n",
            "1875/1875 [==============================] - 812s 433ms/step - loss: 0.0339 - accuracy: 0.9888\n",
            "Epoch 4/5\n",
            "1875/1875 [==============================] - 813s 433ms/step - loss: 0.0218 - accuracy: 0.9932\n",
            "Epoch 5/5\n",
            "1875/1875 [==============================] - 812s 433ms/step - loss: 0.0166 - accuracy: 0.9940\n",
            "1875/1875 [==============================] - 198s 106ms/step - loss: 0.0080 - accuracy: 0.9974\n",
            "313/313 [==============================] - 33s 105ms/step - loss: 0.0878 - accuracy: 0.9783\n"
          ],
          "name": "stdout"
        }
      ]
    },
    {
      "cell_type": "code",
      "metadata": {
        "id": "6VyWolKynyEN",
        "colab_type": "code",
        "colab": {
          "base_uri": "https://localhost:8080/",
          "height": 518
        },
        "outputId": "d0c9ae9b-7233-4d28-95f8-6b69ba100e5f"
      },
      "source": [
        "fig,axes= plt.subplots(1,2,figsize=(12,8))\n",
        "\n",
        "axes[0].set_ylabel('Train Accuracy')\n",
        "axes[1].set_ylabel('Test Accuracy')\n",
        "axes[0].set_xlabel('No. of Filters')\n",
        "axes[1].set_xlabel('No. of Filters')\n",
        "\n",
        "axes[0].set_ylim(0.95,1.0)\n",
        "axes[1].set_ylim(0.95,1.0)\n",
        "\n",
        "sns.barplot(x=filters,y=train_acc,ax=axes[0])\n",
        "sns.barplot(x=filters,y=test_acc,ax=axes[1])"
      ],
      "execution_count": null,
      "outputs": [
        {
          "output_type": "execute_result",
          "data": {
            "text/plain": [
              "<matplotlib.axes._subplots.AxesSubplot at 0x7fe4f2a7b278>"
            ]
          },
          "metadata": {
            "tags": []
          },
          "execution_count": 60
        },
        {
          "output_type": "display_data",
          "data": {
            "image/png": "[encoded data removed]",
            "text/plain": [
              "<Figure size 864x576 with 2 Axes>"
            ]
          },
          "metadata": {
            "tags": [],
            "needs_background": "light"
          }
        }
      ]
    },
    {
      "cell_type": "code",
      "metadata": {
        "id": "gpSVp4ftQobW",
        "colab_type": "code",
        "colab": {}
      },
      "source": [
        "## Different number of layers (32 3x3 filters)"
      ],
      "execution_count": null,
      "outputs": []
    },
    {
      "cell_type": "code",
      "metadata": {
        "id": "Gm2abLDDnNY9",
        "colab_type": "code",
        "colab": {}
      },
      "source": [
        "params2=[]\n",
        "timess2=[]\n",
        "test_acc2=[]\n",
        "train_acc2=[]"
      ],
      "execution_count": null,
      "outputs": []
    },
    {
      "cell_type": "code",
      "metadata": {
        "id": "GRIcutn8nIij",
        "colab_type": "code",
        "colab": {}
      },
      "source": [
        "layers=[2,3,4]"
      ],
      "execution_count": null,
      "outputs": []
    },
    {
      "cell_type": "code",
      "metadata": {
        "id": "Y7A_4EIunUvO",
        "colab_type": "code",
        "colab": {
          "base_uri": "https://localhost:8080/",
          "height": 629
        },
        "outputId": "a140774c-d0d3-4b9e-be94-c06ed4e70f75"
      },
      "source": [
        "for i in layers:\n",
        "    model= Sequential()\n",
        "    model.add(Input(shape=(28,28,1)))\n",
        "    for j in range(i):\n",
        "      model.add(Conv2D(32,(3,3),activation='relu'))\n",
        "    model.add(Flatten())\n",
        "    model.add(Dense(10,activation='softmax'))\n",
        "    model.compile(optimizer='adam',loss='categorical_crossentropy',metrics=['accuracy'])\n",
        "    t=time.time()\n",
        "    model.fit(X_train,y_train,epochs=5)\n",
        "    timess2.append(time.time()-t)\n",
        "    b=model.evaluate(X_train,y_train)\n",
        "    a=model.evaluate(X_test,y_test)\n",
        "    \n",
        "    train_acc2.append(b[1])\n",
        "    test_acc2.append(a[1])\n",
        "    params2.append(model.count_params())"
      ],
      "execution_count": null,
      "outputs": [
        {
          "output_type": "stream",
          "text": [
            "Epoch 1/5\n",
            "1875/1875 [==============================] - 6s 3ms/step - loss: 0.1350 - accuracy: 0.9591\n",
            "Epoch 2/5\n",
            "1875/1875 [==============================] - 6s 3ms/step - loss: 0.0481 - accuracy: 0.9853\n",
            "Epoch 3/5\n",
            "1875/1875 [==============================] - 6s 3ms/step - loss: 0.0318 - accuracy: 0.9904\n",
            "Epoch 4/5\n",
            "1875/1875 [==============================] - 6s 3ms/step - loss: 0.0215 - accuracy: 0.9931\n",
            "Epoch 5/5\n",
            "1875/1875 [==============================] - 6s 3ms/step - loss: 0.0140 - accuracy: 0.9954\n",
            "1875/1875 [==============================] - 5s 2ms/step - loss: 0.0109 - accuracy: 0.9966\n",
            "313/313 [==============================] - 1s 3ms/step - loss: 0.0548 - accuracy: 0.9842\n",
            "Epoch 1/5\n",
            "1875/1875 [==============================] - 7s 4ms/step - loss: 0.1221 - accuracy: 0.9635\n",
            "Epoch 2/5\n",
            "1875/1875 [==============================] - 7s 3ms/step - loss: 0.0442 - accuracy: 0.9862\n",
            "Epoch 3/5\n",
            "1875/1875 [==============================] - 7s 4ms/step - loss: 0.0292 - accuracy: 0.9908\n",
            "Epoch 4/5\n",
            "1875/1875 [==============================] - 7s 4ms/step - loss: 0.0207 - accuracy: 0.9934\n",
            "Epoch 5/5\n",
            "1875/1875 [==============================] - 7s 4ms/step - loss: 0.0148 - accuracy: 0.9951\n",
            "1875/1875 [==============================] - 5s 3ms/step - loss: 0.0088 - accuracy: 0.9970\n",
            "313/313 [==============================] - 1s 3ms/step - loss: 0.0412 - accuracy: 0.9880\n",
            "Epoch 1/5\n",
            "1875/1875 [==============================] - 7s 4ms/step - loss: 0.1214 - accuracy: 0.9643\n",
            "Epoch 2/5\n",
            "1875/1875 [==============================] - 7s 4ms/step - loss: 0.0450 - accuracy: 0.9865\n",
            "Epoch 3/5\n",
            "1875/1875 [==============================] - 7s 4ms/step - loss: 0.0314 - accuracy: 0.9900\n",
            "Epoch 4/5\n",
            "1875/1875 [==============================] - 8s 4ms/step - loss: 0.0223 - accuracy: 0.9927\n",
            "Epoch 5/5\n",
            "1875/1875 [==============================] - 7s 4ms/step - loss: 0.0159 - accuracy: 0.9951\n",
            "1875/1875 [==============================] - 5s 3ms/step - loss: 0.0105 - accuracy: 0.9968\n",
            "313/313 [==============================] - 1s 3ms/step - loss: 0.0411 - accuracy: 0.9881\n"
          ],
          "name": "stdout"
        }
      ]
    },
    {
      "cell_type": "code",
      "metadata": {
        "id": "EAwofhnqxLeR",
        "colab_type": "code",
        "colab": {
          "base_uri": "https://localhost:8080/",
          "height": 518
        },
        "outputId": "a21673a8-45ce-4b2b-9f6d-43d3c6998768"
      },
      "source": [
        "fig,axes= plt.subplots(1,3,figsize=(20,8))\n",
        "\n",
        "axes[0].set_ylabel('Train Accuracy')\n",
        "axes[1].set_ylabel('Test Accuracy')\n",
        "axes[2].set_ylabel('Time Taken')\n",
        "axes[0].set_xlabel('No. of Layers')\n",
        "axes[1].set_xlabel('No. of Layers')\n",
        "axes[2].set_xlabel('No. of Layers')\n",
        "\n",
        "axes[0].set_ylim(0.98,1.0)\n",
        "axes[1].set_ylim(0.98,1.0)\n",
        "\n",
        "sns.barplot(x=layers,y=train_acc2,ax=axes[0])\n",
        "sns.barplot(x=layers,y=test_acc2,ax=axes[1])\n",
        "sns.barplot(x=layers,y=timess2,ax=axes[2])"
      ],
      "execution_count": null,
      "outputs": [
        {
          "output_type": "execute_result",
          "data": {
            "text/plain": [
              "<matplotlib.axes._subplots.AxesSubplot at 0x7f31b1aefa20>"
            ]
          },
          "metadata": {
            "tags": []
          },
          "execution_count": 26
        },
        {
          "output_type": "display_data",
          "data": {
            "image/png": "[encoded data removed]",
            "text/plain": [
              "<Figure size 1440x576 with 3 Axes>"
            ]
          },
          "metadata": {
            "tags": [],
            "needs_background": "light"
          }
        }
      ]
    },
    {
      "cell_type": "markdown",
      "metadata": {
        "id": "e4vJ1vMh_YZP",
        "colab_type": "text"
      },
      "source": [
        "## Different Filter Size"
      ]
    },
    {
      "cell_type": "code",
      "metadata": {
        "id": "cEOXAWhK_lzi",
        "colab_type": "code",
        "colab": {}
      },
      "source": [
        "params3=[]\n",
        "timess3=[]\n",
        "test_acc3=[]\n",
        "train_acc3=[]\n",
        "filt=[]"
      ],
      "execution_count": null,
      "outputs": []
    },
    {
      "cell_type": "code",
      "metadata": {
        "id": "MrDby-Tm_UHo",
        "colab_type": "code",
        "colab": {}
      },
      "source": [
        "filter_size=[3,5,7]"
      ],
      "execution_count": null,
      "outputs": []
    },
    {
      "cell_type": "code",
      "metadata": {
        "id": "ftK6Tiv__rST",
        "colab_type": "code",
        "colab": {
          "base_uri": "https://localhost:8080/",
          "height": 629
        },
        "outputId": "371487bc-d602-4ea2-c893-b328e6188e3c"
      },
      "source": [
        "for i in filter_size:\n",
        "    model= Sequential()\n",
        "    model.add(Input(shape=(28,28,1)))\n",
        "    model.add(Conv2D(16,(i,i),activation='relu'))\n",
        "    model.add(Conv2D(16,(i,i),activation='relu'))\n",
        "    model.add(Flatten())\n",
        "    model.add(Dense(10,activation='softmax'))\n",
        "    model.compile(optimizer='adam',loss='categorical_crossentropy',metrics=['accuracy'])\n",
        "    t=time.time()\n",
        "    model.fit(X_train,y_train,epochs=5)\n",
        "    timess3.append(time.time()-t)\n",
        "    b=model.evaluate(X_train,y_train)\n",
        "    a=model.evaluate(X_test,y_test)\n",
        "    \n",
        "    filt.append(i)\n",
        "    train_acc3.append(b[1])\n",
        "    test_acc3.append(a[1])\n",
        "    params3.append(model.count_params())"
      ],
      "execution_count": null,
      "outputs": [
        {
          "output_type": "stream",
          "text": [
            "Epoch 1/5\n",
            "1875/1875 [==============================] - 5s 3ms/step - loss: 0.1440 - accuracy: 0.9581\n",
            "Epoch 2/5\n",
            "1875/1875 [==============================] - 5s 3ms/step - loss: 0.0533 - accuracy: 0.9836\n",
            "Epoch 3/5\n",
            "1875/1875 [==============================] - 5s 3ms/step - loss: 0.0367 - accuracy: 0.9888\n",
            "Epoch 4/5\n",
            "1875/1875 [==============================] - 5s 2ms/step - loss: 0.0265 - accuracy: 0.9917\n",
            "Epoch 5/5\n",
            "1875/1875 [==============================] - 5s 3ms/step - loss: 0.0195 - accuracy: 0.9936\n",
            "1875/1875 [==============================] - 3s 2ms/step - loss: 0.0238 - accuracy: 0.9921\n",
            "313/313 [==============================] - 1s 3ms/step - loss: 0.0582 - accuracy: 0.9828\n",
            "Epoch 1/5\n",
            "1875/1875 [==============================] - 5s 3ms/step - loss: 0.1366 - accuracy: 0.9596\n",
            "Epoch 2/5\n",
            "1875/1875 [==============================] - 5s 2ms/step - loss: 0.0510 - accuracy: 0.9853\n",
            "Epoch 3/5\n",
            "1875/1875 [==============================] - 5s 3ms/step - loss: 0.0360 - accuracy: 0.9890\n",
            "Epoch 4/5\n",
            "1875/1875 [==============================] - 5s 2ms/step - loss: 0.0270 - accuracy: 0.9915\n",
            "Epoch 5/5\n",
            "1875/1875 [==============================] - 5s 2ms/step - loss: 0.0197 - accuracy: 0.9936\n",
            "1875/1875 [==============================] - 3s 2ms/step - loss: 0.0140 - accuracy: 0.9953\n",
            "313/313 [==============================] - 1s 3ms/step - loss: 0.0370 - accuracy: 0.9898\n",
            "Epoch 1/5\n",
            "1875/1875 [==============================] - 5s 3ms/step - loss: 0.1328 - accuracy: 0.9591\n",
            "Epoch 2/5\n",
            "1875/1875 [==============================] - 4s 2ms/step - loss: 0.0487 - accuracy: 0.9848\n",
            "Epoch 3/5\n",
            "1875/1875 [==============================] - 5s 2ms/step - loss: 0.0367 - accuracy: 0.9886\n",
            "Epoch 4/5\n",
            "1875/1875 [==============================] - 5s 2ms/step - loss: 0.0273 - accuracy: 0.9911\n",
            "Epoch 5/5\n",
            "1875/1875 [==============================] - 5s 2ms/step - loss: 0.0214 - accuracy: 0.9934\n",
            "1875/1875 [==============================] - 3s 2ms/step - loss: 0.0145 - accuracy: 0.9951\n",
            "313/313 [==============================] - 1s 3ms/step - loss: 0.0394 - accuracy: 0.9884\n"
          ],
          "name": "stdout"
        }
      ]
    },
    {
      "cell_type": "code",
      "metadata": {
        "id": "h701CYxhBw9K",
        "colab_type": "code",
        "colab": {
          "base_uri": "https://localhost:8080/",
          "height": 34
        },
        "outputId": "9cc36dce-d1e9-4a4c-d1aa-dde739356cbd"
      },
      "source": [
        "filt"
      ],
      "execution_count": null,
      "outputs": [
        {
          "output_type": "execute_result",
          "data": {
            "text/plain": [
              "[3, 5, 7]"
            ]
          },
          "metadata": {
            "tags": []
          },
          "execution_count": 23
        }
      ]
    },
    {
      "cell_type": "code",
      "metadata": {
        "id": "et4owyNwCaWN",
        "colab_type": "code",
        "colab": {
          "base_uri": "https://localhost:8080/",
          "height": 518
        },
        "outputId": "adcb75c6-fa70-431d-a97a-83463cd846d8"
      },
      "source": [
        "fig,axes= plt.subplots(1,3,figsize=(20,8))\n",
        "\n",
        "axes[0].set_ylabel('Train Accuracy')\n",
        "axes[1].set_ylabel('Test Accuracy')\n",
        "axes[2].set_ylabel('Time Taken')\n",
        "axes[0].set_xlabel('Filter Size')\n",
        "axes[1].set_xlabel('Filter Size')\n",
        "axes[2].set_xlabel('Filter Size')\n",
        "\n",
        "axes[0].set_ylim(0.98,1.0)\n",
        "axes[1].set_ylim(0.98,1.0)\n",
        "\n",
        "sns.barplot(x=filt,y=train_acc3,ax=axes[0])\n",
        "sns.barplot(x=filt,y=test_acc3,ax=axes[1])\n",
        "sns.barplot(x=filt,y=timess3,ax=axes[2])"
      ],
      "execution_count": null,
      "outputs": [
        {
          "output_type": "execute_result",
          "data": {
            "text/plain": [
              "<matplotlib.axes._subplots.AxesSubplot at 0x7f89ee17b080>"
            ]
          },
          "metadata": {
            "tags": []
          },
          "execution_count": 26
        },
        {
          "output_type": "display_data",
          "data": {
            "image/png": "[encoded data removed]",
            "text/plain": [
              "<Figure size 1440x576 with 3 Axes>"
            ]
          },
          "metadata": {
            "tags": [],
            "needs_background": "light"
          }
        }
      ]
    },
    {
      "cell_type": "code",
      "metadata": {
        "id": "JYKv3ABbCo_o",
        "colab_type": "code",
        "colab": {
          "base_uri": "https://localhost:8080/",
          "height": 296
        },
        "outputId": "b549f5e5-dd99-4a72-f538-290c89e981ee"
      },
      "source": [
        "plt.xlabel('filter size')\n",
        "plt.ylabel('params')\n",
        "sns.barplot(filt,params3)"
      ],
      "execution_count": null,
      "outputs": [
        {
          "output_type": "execute_result",
          "data": {
            "text/plain": [
              "<matplotlib.axes._subplots.AxesSubplot at 0x7f89e7106748>"
            ]
          },
          "metadata": {
            "tags": []
          },
          "execution_count": 37
        },
        {
          "output_type": "display_data",
          "data": {
            "image/png": "[encoded data removed]",
            "text/plain": [
              "<Figure size 432x288 with 1 Axes>"
            ]
          },
          "metadata": {
            "tags": [],
            "needs_background": "light"
          }
        }
      ]
    },
    {
      "cell_type": "code",
      "metadata": {
        "id": "IURjhAPSCyRt",
        "colab_type": "code",
        "colab": {}
      },
      "source": [
        "## Different Activation Functions"
      ],
      "execution_count": null,
      "outputs": []
    },
    {
      "cell_type": "code",
      "metadata": {
        "id": "D0wcGWU_EcEY",
        "colab_type": "code",
        "colab": {}
      },
      "source": [
        "activ=['sigmoid','tanh','relu']"
      ],
      "execution_count": null,
      "outputs": []
    },
    {
      "cell_type": "code",
      "metadata": {
        "id": "w3QMD5ktGr4_",
        "colab_type": "code",
        "colab": {}
      },
      "source": [
        "params4=[]\n",
        "timess4=[]\n",
        "test_acc4=[]\n",
        "train_acc4=[]"
      ],
      "execution_count": null,
      "outputs": []
    },
    {
      "cell_type": "code",
      "metadata": {
        "id": "ge0p5I_kGxqA",
        "colab_type": "code",
        "colab": {}
      },
      "source": [
        "activa=[]"
      ],
      "execution_count": null,
      "outputs": []
    },
    {
      "cell_type": "code",
      "metadata": {
        "id": "yuTj_PSlEDA4",
        "colab_type": "code",
        "colab": {
          "base_uri": "https://localhost:8080/",
          "height": 629
        },
        "outputId": "aa26a23d-325b-4589-ae94-7a3fdf6f031c"
      },
      "source": [
        "for i in activ:\n",
        "    model= Sequential()\n",
        "    model.add(Input(shape=(28,28,1)))\n",
        "    model.add(Conv2D(16,(3,3),activation=i))\n",
        "    model.add(Conv2D(16,(3,3),activation=i))\n",
        "    model.add(Flatten())\n",
        "    model.add(Dense(10,activation='softmax'))\n",
        "    model.compile(optimizer='adam',loss='categorical_crossentropy',metrics=['accuracy'])\n",
        "    t=time.time()\n",
        "    model.fit(X_train,y_train,epochs=5)\n",
        "    timess4.append(time.time()-t)\n",
        "    b=model.evaluate(X_train,y_train)\n",
        "    a=model.evaluate(X_test,y_test)\n",
        "    \n",
        "\n",
        "    train_acc4.append(b[1])\n",
        "    test_acc4.append(a[1])\n",
        "    params4.append(model.count_params())\n",
        "\n",
        "    activa.append(i)"
      ],
      "execution_count": null,
      "outputs": [
        {
          "output_type": "stream",
          "text": [
            "Epoch 1/5\n",
            "1875/1875 [==============================] - 5s 3ms/step - loss: 0.6627 - accuracy: 0.7885\n",
            "Epoch 2/5\n",
            "1875/1875 [==============================] - 5s 3ms/step - loss: 0.2572 - accuracy: 0.9231\n",
            "Epoch 3/5\n",
            "1875/1875 [==============================] - 5s 3ms/step - loss: 0.1585 - accuracy: 0.9533\n",
            "Epoch 4/5\n",
            "1875/1875 [==============================] - 5s 3ms/step - loss: 0.1194 - accuracy: 0.9649\n",
            "Epoch 5/5\n",
            "1875/1875 [==============================] - 5s 3ms/step - loss: 0.0937 - accuracy: 0.9722\n",
            "1875/1875 [==============================] - 3s 2ms/step - loss: 0.0730 - accuracy: 0.9782\n",
            "313/313 [==============================] - 1s 3ms/step - loss: 0.0824 - accuracy: 0.9756\n",
            "Epoch 1/5\n",
            "1875/1875 [==============================] - 5s 3ms/step - loss: 0.3381 - accuracy: 0.9024\n",
            "Epoch 2/5\n",
            "1875/1875 [==============================] - 5s 3ms/step - loss: 0.1777 - accuracy: 0.9493\n",
            "Epoch 3/5\n",
            "1875/1875 [==============================] - 5s 3ms/step - loss: 0.1017 - accuracy: 0.9701\n",
            "Epoch 4/5\n",
            "1875/1875 [==============================] - 5s 3ms/step - loss: 0.0827 - accuracy: 0.9745\n",
            "Epoch 5/5\n",
            "1875/1875 [==============================] - 5s 3ms/step - loss: 0.0724 - accuracy: 0.9772\n",
            "1875/1875 [==============================] - 3s 2ms/step - loss: 0.0532 - accuracy: 0.9834\n",
            "313/313 [==============================] - 1s 3ms/step - loss: 0.0898 - accuracy: 0.9737\n",
            "Epoch 1/5\n",
            "1875/1875 [==============================] - 5s 2ms/step - loss: 0.1527 - accuracy: 0.9547\n",
            "Epoch 2/5\n",
            "1875/1875 [==============================] - 5s 2ms/step - loss: 0.0600 - accuracy: 0.9815\n",
            "Epoch 3/5\n",
            "1875/1875 [==============================] - 5s 3ms/step - loss: 0.0407 - accuracy: 0.9874\n",
            "Epoch 4/5\n",
            "1875/1875 [==============================] - 5s 3ms/step - loss: 0.0297 - accuracy: 0.9909\n",
            "Epoch 5/5\n",
            "1875/1875 [==============================] - 5s 2ms/step - loss: 0.0223 - accuracy: 0.9931\n",
            "1875/1875 [==============================] - 3s 2ms/step - loss: 0.0144 - accuracy: 0.9957\n",
            "313/313 [==============================] - 1s 3ms/step - loss: 0.0468 - accuracy: 0.9849\n"
          ],
          "name": "stdout"
        }
      ]
    },
    {
      "cell_type": "code",
      "metadata": {
        "id": "vJgWD2ikIib6",
        "colab_type": "code",
        "colab": {
          "base_uri": "https://localhost:8080/",
          "height": 518
        },
        "outputId": "804a422a-0dd5-4894-f5e5-99a672512034"
      },
      "source": [
        "fig,axes= plt.subplots(1,3,figsize=(20,8))\n",
        "\n",
        "axes[0].set_ylabel('Train Accuracy')\n",
        "axes[1].set_ylabel('Test Accuracy')\n",
        "axes[2].set_ylabel('Time Taken')\n",
        "axes[0].set_xlabel('Activation Function')\n",
        "axes[1].set_xlabel('Activation Function')\n",
        "axes[2].set_xlabel('Activation Function')\n",
        "\n",
        "axes[0].set_ylim(0.95,1.0)\n",
        "axes[1].set_ylim(0.95,1.0)\n",
        "axes[2].set_ylim(20,27)\n",
        "\n",
        "sns.barplot(x=activa,y=train_acc4,ax=axes[0])\n",
        "sns.barplot(x=activa,y=test_acc4,ax=axes[1])\n",
        "sns.barplot(x=activa,y=timess4,ax=axes[2])"
      ],
      "execution_count": null,
      "outputs": [
        {
          "output_type": "execute_result",
          "data": {
            "text/plain": [
              "<matplotlib.axes._subplots.AxesSubplot at 0x7f89dc02b588>"
            ]
          },
          "metadata": {
            "tags": []
          },
          "execution_count": 41
        },
        {
          "output_type": "display_data",
          "data": {
            "image/png": "[encoded data removed]",
            "text/plain": [
              "<Figure size 1440x576 with 3 Axes>"
            ]
          },
          "metadata": {
            "tags": [],
            "needs_background": "light"
          }
        }
      ]
    },
    {
      "cell_type": "code",
      "metadata": {
        "id": "K9w0EPWeJRKi",
        "colab_type": "code",
        "colab": {
          "base_uri": "https://localhost:8080/",
          "height": 296
        },
        "outputId": "52d3a00b-7045-4991-8b09-b147bba57877"
      },
      "source": [
        "plt.xlabel('Activation Function')\n",
        "plt.ylabel('Params')\n",
        "sns.barplot(activa,params4)"
      ],
      "execution_count": null,
      "outputs": [
        {
          "output_type": "execute_result",
          "data": {
            "text/plain": [
              "<matplotlib.axes._subplots.AxesSubplot at 0x7f89dc326390>"
            ]
          },
          "metadata": {
            "tags": []
          },
          "execution_count": 42
        },
        {
          "output_type": "display_data",
          "data": {
            "image/png": "[encoded data removed]",
            "text/plain": [
              "<Figure size 432x288 with 1 Axes>"
            ]
          },
          "metadata": {
            "tags": [],
            "needs_background": "light"
          }
        }
      ]
    },
    {
      "cell_type": "code",
      "metadata": {
        "id": "GGSEfobWJ9If",
        "colab_type": "code",
        "colab": {}
      },
      "source": [
        "## 10 epochs"
      ],
      "execution_count": null,
      "outputs": []
    },
    {
      "cell_type": "code",
      "metadata": {
        "id": "fbQcz2R_JxrS",
        "colab_type": "code",
        "colab": {}
      },
      "source": [
        "params5=[]\n",
        "timess5=[]\n",
        "test_acc5=[]\n",
        "train_acc5=[]"
      ],
      "execution_count": null,
      "outputs": []
    },
    {
      "cell_type": "code",
      "metadata": {
        "id": "hcyGB4MFJ6T-",
        "colab_type": "code",
        "colab": {}
      },
      "source": [
        "activa2=[]"
      ],
      "execution_count": null,
      "outputs": []
    },
    {
      "cell_type": "code",
      "metadata": {
        "id": "wJSS8AaxKAQE",
        "colab_type": "code",
        "colab": {
          "base_uri": "https://localhost:8080/",
          "height": 1000
        },
        "outputId": "7de9dabe-7f30-47c0-8c4f-f919314cbeca"
      },
      "source": [
        "for i in activ:\n",
        "    model= Sequential()\n",
        "    model.add(Input(shape=(28,28,1)))\n",
        "    model.add(Conv2D(16,(3,3),activation=i))\n",
        "    model.add(Conv2D(16,(3,3),activation=i))\n",
        "    model.add(Flatten())\n",
        "    model.add(Dense(10,activation='softmax'))\n",
        "    model.compile(optimizer='adam',loss='categorical_crossentropy',metrics=['accuracy'])\n",
        "    t=time.time()\n",
        "    model.fit(X_train,y_train,epochs=10)\n",
        "    timess5.append(time.time()-t)\n",
        "    b=model.evaluate(X_train,y_train)\n",
        "    a=model.evaluate(X_test,y_test)\n",
        "    \n",
        "\n",
        "    train_acc5.append(b[1])\n",
        "    test_acc5.append(a[1])\n",
        "    params5.append(model.count_params())\n",
        "\n",
        "    activa2.append(i)"
      ],
      "execution_count": null,
      "outputs": [
        {
          "output_type": "stream",
          "text": [
            "Epoch 1/10\n",
            "1875/1875 [==============================] - 5s 3ms/step - loss: 0.6640 - accuracy: 0.7844\n",
            "Epoch 2/10\n",
            "1875/1875 [==============================] - 5s 3ms/step - loss: 0.3106 - accuracy: 0.9070\n",
            "Epoch 3/10\n",
            "1875/1875 [==============================] - 5s 3ms/step - loss: 0.2337 - accuracy: 0.9310\n",
            "Epoch 4/10\n",
            "1875/1875 [==============================] - 5s 3ms/step - loss: 0.1390 - accuracy: 0.9586\n",
            "Epoch 5/10\n",
            "1875/1875 [==============================] - 5s 3ms/step - loss: 0.0942 - accuracy: 0.9718\n",
            "Epoch 6/10\n",
            "1875/1875 [==============================] - 5s 3ms/step - loss: 0.0769 - accuracy: 0.9767\n",
            "Epoch 7/10\n",
            "1875/1875 [==============================] - 5s 3ms/step - loss: 0.0654 - accuracy: 0.9797\n",
            "Epoch 8/10\n",
            "1875/1875 [==============================] - 5s 3ms/step - loss: 0.0573 - accuracy: 0.9828\n",
            "Epoch 9/10\n",
            "1875/1875 [==============================] - 5s 3ms/step - loss: 0.0512 - accuracy: 0.9841\n",
            "Epoch 10/10\n",
            "1875/1875 [==============================] - 5s 3ms/step - loss: 0.0460 - accuracy: 0.9860\n",
            "1875/1875 [==============================] - 4s 2ms/step - loss: 0.0359 - accuracy: 0.9893\n",
            "313/313 [==============================] - 1s 2ms/step - loss: 0.0596 - accuracy: 0.9841\n",
            "Epoch 1/10\n",
            "1875/1875 [==============================] - 5s 3ms/step - loss: 0.3259 - accuracy: 0.9057\n",
            "Epoch 2/10\n",
            "1875/1875 [==============================] - 5s 2ms/step - loss: 0.1394 - accuracy: 0.9586\n",
            "Epoch 3/10\n",
            "1875/1875 [==============================] - 5s 3ms/step - loss: 0.0989 - accuracy: 0.9700\n",
            "Epoch 4/10\n",
            "1875/1875 [==============================] - 5s 3ms/step - loss: 0.0840 - accuracy: 0.9749\n",
            "Epoch 5/10\n",
            "1875/1875 [==============================] - 5s 3ms/step - loss: 0.0707 - accuracy: 0.9785\n",
            "Epoch 6/10\n",
            "1875/1875 [==============================] - 5s 3ms/step - loss: 0.0624 - accuracy: 0.9800\n",
            "Epoch 7/10\n",
            "1875/1875 [==============================] - 5s 3ms/step - loss: 0.0562 - accuracy: 0.9826\n",
            "Epoch 8/10\n",
            "1875/1875 [==============================] - 5s 2ms/step - loss: 0.0500 - accuracy: 0.9841\n",
            "Epoch 9/10\n",
            "1875/1875 [==============================] - 5s 3ms/step - loss: 0.0454 - accuracy: 0.9851\n",
            "Epoch 10/10\n",
            "1875/1875 [==============================] - 5s 3ms/step - loss: 0.0412 - accuracy: 0.9865\n",
            "1875/1875 [==============================] - 3s 2ms/step - loss: 0.0253 - accuracy: 0.9917\n",
            "313/313 [==============================] - 1s 3ms/step - loss: 0.0952 - accuracy: 0.9742\n",
            "Epoch 1/10\n",
            "1875/1875 [==============================] - 5s 3ms/step - loss: 0.1496 - accuracy: 0.9557\n",
            "Epoch 2/10\n",
            "1875/1875 [==============================] - 5s 3ms/step - loss: 0.0532 - accuracy: 0.9836\n",
            "Epoch 3/10\n",
            "1875/1875 [==============================] - 5s 2ms/step - loss: 0.0356 - accuracy: 0.9890\n",
            "Epoch 4/10\n",
            "1875/1875 [==============================] - 5s 3ms/step - loss: 0.0253 - accuracy: 0.9920\n",
            "Epoch 5/10\n",
            "1875/1875 [==============================] - 5s 3ms/step - loss: 0.0174 - accuracy: 0.9948\n",
            "Epoch 6/10\n",
            "1875/1875 [==============================] - 5s 2ms/step - loss: 0.0145 - accuracy: 0.9953\n",
            "Epoch 7/10\n",
            "1875/1875 [==============================] - 5s 3ms/step - loss: 0.0101 - accuracy: 0.9965\n",
            "Epoch 8/10\n",
            "1875/1875 [==============================] - 5s 2ms/step - loss: 0.0076 - accuracy: 0.9973\n",
            "Epoch 9/10\n",
            "1875/1875 [==============================] - 5s 3ms/step - loss: 0.0069 - accuracy: 0.9976\n",
            "Epoch 10/10\n",
            "1875/1875 [==============================] - 5s 3ms/step - loss: 0.0059 - accuracy: 0.9981\n",
            "1875/1875 [==============================] - 4s 2ms/step - loss: 0.0045 - accuracy: 0.9984\n",
            "313/313 [==============================] - 1s 3ms/step - loss: 0.0651 - accuracy: 0.9849\n"
          ],
          "name": "stdout"
        }
      ]
    },
    {
      "cell_type": "code",
      "metadata": {
        "id": "utx9kXaMKKBV",
        "colab_type": "code",
        "colab": {
          "base_uri": "https://localhost:8080/",
          "height": 518
        },
        "outputId": "cc48f3fe-516c-4e0f-8876-8030ce079243"
      },
      "source": [
        "fig,axes= plt.subplots(1,3,figsize=(20,8))\n",
        "\n",
        "axes[0].set_ylabel('Train Accuracy')\n",
        "axes[1].set_ylabel('Test Accuracy')\n",
        "axes[2].set_ylabel('Time Taken')\n",
        "axes[0].set_xlabel('Activation Function')\n",
        "axes[1].set_xlabel('Activation Function')\n",
        "axes[2].set_xlabel('Activation Function')\n",
        "\n",
        "axes[0].set_ylim(0.95,1.0)\n",
        "axes[1].set_ylim(0.95,1.0)\n",
        "axes[2].set_ylim(40,50)\n",
        "\n",
        "sns.barplot(x=activa2,y=train_acc5,ax=axes[0])\n",
        "sns.barplot(x=activa2,y=test_acc5,ax=axes[1])\n",
        "sns.barplot(x=activa2,y=timess5,ax=axes[2])"
      ],
      "execution_count": null,
      "outputs": [
        {
          "output_type": "execute_result",
          "data": {
            "text/plain": [
              "<matplotlib.axes._subplots.AxesSubplot at 0x7f89b42a1240>"
            ]
          },
          "metadata": {
            "tags": []
          },
          "execution_count": 53
        },
        {
          "output_type": "display_data",
          "data": {
            "image/png": "[encoded data removed]",
            "text/plain": [
              "<Figure size 1440x576 with 3 Axes>"
            ]
          },
          "metadata": {
            "tags": [],
            "needs_background": "light"
          }
        }
      ]
    },
    {
      "cell_type": "code",
      "metadata": {
        "id": "3c6w-lIVK67D",
        "colab_type": "code",
        "colab": {}
      },
      "source": [
        "# For diff combos"
      ],
      "execution_count": null,
      "outputs": []
    },
    {
      "cell_type": "code",
      "metadata": {
        "id": "X69g5sG4MAwk",
        "colab_type": "code",
        "colab": {}
      },
      "source": [
        "combos=[[3,5],[5,7],[7,3]]"
      ],
      "execution_count": null,
      "outputs": []
    },
    {
      "cell_type": "code",
      "metadata": {
        "id": "Wl2mXJUSMvGc",
        "colab_type": "code",
        "colab": {}
      },
      "source": [
        "comb=[]"
      ],
      "execution_count": null,
      "outputs": []
    },
    {
      "cell_type": "code",
      "metadata": {
        "id": "EsOWIILgMoTz",
        "colab_type": "code",
        "colab": {}
      },
      "source": [
        "params6=[]\n",
        "timess6=[]\n",
        "test_acc6=[]\n",
        "train_acc6=[]"
      ],
      "execution_count": null,
      "outputs": []
    },
    {
      "cell_type": "code",
      "metadata": {
        "id": "vg5yFq9LMD9u",
        "colab_type": "code",
        "colab": {
          "base_uri": "https://localhost:8080/",
          "height": 629
        },
        "outputId": "b1eaa31b-71c1-4ad2-d252-b07ed27d8b62"
      },
      "source": [
        "for i in combos:\n",
        "    model= Sequential()\n",
        "    model.add(Input(shape=(28,28,1)))\n",
        "    model.add(Conv2D(16,(i[0],i[0]),activation='relu'))\n",
        "    model.add(Conv2D(16,(i[1],i[1]),activation='relu'))\n",
        "    model.add(Flatten())\n",
        "    model.add(Dense(10,activation='softmax'))\n",
        "    model.compile(optimizer='adam',loss='categorical_crossentropy',metrics=['accuracy'])\n",
        "    t=time.time()\n",
        "    model.fit(X_train,y_train,epochs=5)\n",
        "    timess6.append(time.time()-t)\n",
        "    b=model.evaluate(X_train,y_train)\n",
        "    a=model.evaluate(X_test,y_test)\n",
        "    \n",
        "\n",
        "    train_acc6.append(b[1])\n",
        "    test_acc6.append(a[1])\n",
        "    params6.append(model.count_params())\n",
        "\n",
        "    comb.append(i)"
      ],
      "execution_count": null,
      "outputs": [
        {
          "output_type": "stream",
          "text": [
            "Epoch 1/5\n",
            "1875/1875 [==============================] - 5s 3ms/step - loss: 0.1376 - accuracy: 0.9591\n",
            "Epoch 2/5\n",
            "1875/1875 [==============================] - 5s 2ms/step - loss: 0.0479 - accuracy: 0.9859\n",
            "Epoch 3/5\n",
            "1875/1875 [==============================] - 5s 3ms/step - loss: 0.0344 - accuracy: 0.9889\n",
            "Epoch 4/5\n",
            "1875/1875 [==============================] - 5s 2ms/step - loss: 0.0240 - accuracy: 0.9922\n",
            "Epoch 5/5\n",
            "1875/1875 [==============================] - 5s 3ms/step - loss: 0.0167 - accuracy: 0.9944\n",
            "1875/1875 [==============================] - 3s 2ms/step - loss: 0.0153 - accuracy: 0.9952\n",
            "313/313 [==============================] - 1s 3ms/step - loss: 0.0470 - accuracy: 0.9869\n",
            "Epoch 1/5\n",
            "1875/1875 [==============================] - 5s 3ms/step - loss: 0.1318 - accuracy: 0.9606\n",
            "Epoch 2/5\n",
            "1875/1875 [==============================] - 5s 2ms/step - loss: 0.0472 - accuracy: 0.9857\n",
            "Epoch 3/5\n",
            "1875/1875 [==============================] - 5s 2ms/step - loss: 0.0334 - accuracy: 0.9892\n",
            "Epoch 4/5\n",
            "1875/1875 [==============================] - 4s 2ms/step - loss: 0.0258 - accuracy: 0.9916\n",
            "Epoch 5/5\n",
            "1875/1875 [==============================] - 5s 2ms/step - loss: 0.0185 - accuracy: 0.9940\n",
            "1875/1875 [==============================] - 3s 2ms/step - loss: 0.0110 - accuracy: 0.9966\n",
            "313/313 [==============================] - 1s 2ms/step - loss: 0.0367 - accuracy: 0.9898\n",
            "Epoch 1/5\n",
            "1875/1875 [==============================] - 5s 2ms/step - loss: 0.1400 - accuracy: 0.9582\n",
            "Epoch 2/5\n",
            "1875/1875 [==============================] - 4s 2ms/step - loss: 0.0550 - accuracy: 0.9830\n",
            "Epoch 3/5\n",
            "1875/1875 [==============================] - 4s 2ms/step - loss: 0.0392 - accuracy: 0.9876\n",
            "Epoch 4/5\n",
            "1875/1875 [==============================] - 5s 3ms/step - loss: 0.0299 - accuracy: 0.9905\n",
            "Epoch 5/5\n",
            "1875/1875 [==============================] - 5s 3ms/step - loss: 0.0227 - accuracy: 0.9928\n",
            "1875/1875 [==============================] - 4s 2ms/step - loss: 0.0193 - accuracy: 0.9929\n",
            "313/313 [==============================] - 1s 2ms/step - loss: 0.0462 - accuracy: 0.9868\n"
          ],
          "name": "stdout"
        }
      ]
    },
    {
      "cell_type": "code",
      "metadata": {
        "id": "X7lLsQWbN1SV",
        "colab_type": "code",
        "colab": {
          "base_uri": "https://localhost:8080/",
          "height": 34
        },
        "outputId": "41a1bbc4-70a0-49d7-b6f1-e37c47ab2b5c"
      },
      "source": [
        "comb"
      ],
      "execution_count": null,
      "outputs": [
        {
          "output_type": "execute_result",
          "data": {
            "text/plain": [
              "[[3, 5], [5, 7], [7, 3]]"
            ]
          },
          "metadata": {
            "tags": []
          },
          "execution_count": 72
        }
      ]
    },
    {
      "cell_type": "code",
      "metadata": {
        "id": "vda75tfBNyop",
        "colab_type": "code",
        "colab": {}
      },
      "source": [
        "combb=[\"3->5\",\"5->7\",\"7->3\"]"
      ],
      "execution_count": null,
      "outputs": []
    },
    {
      "cell_type": "code",
      "metadata": {
        "id": "Ed5BwxAqMzus",
        "colab_type": "code",
        "colab": {
          "base_uri": "https://localhost:8080/",
          "height": 518
        },
        "outputId": "0a3d09cf-7d8f-4fc1-9399-f96c63647c94"
      },
      "source": [
        "fig,axes= plt.subplots(1,3,figsize=(20,8))\n",
        "\n",
        "axes[0].set_ylabel('Train Accuracy')\n",
        "axes[1].set_ylabel('Test Accuracy')\n",
        "axes[2].set_ylabel('Time Taken')\n",
        "axes[0].set_xlabel('Combos')\n",
        "axes[1].set_xlabel('Combos')\n",
        "axes[2].set_xlabel('Combos')\n",
        "\n",
        "axes[0].set_ylim(0.95,1.0)\n",
        "axes[1].set_ylim(0.95,1.0)\n",
        "# axes[2].set_ylim(40,50)\n",
        "\n",
        "sns.barplot(x=combb,y=train_acc6,ax=axes[0])\n",
        "sns.barplot(x=combb,y=test_acc6,ax=axes[1])\n",
        "sns.barplot(x=combb,y=timess6,ax=axes[2])"
      ],
      "execution_count": null,
      "outputs": [
        {
          "output_type": "execute_result",
          "data": {
            "text/plain": [
              "<matplotlib.axes._subplots.AxesSubplot at 0x7f89b0dd97b8>"
            ]
          },
          "metadata": {
            "tags": []
          },
          "execution_count": 74
        },
        {
          "output_type": "display_data",
          "data": {
            "image/png": "[encoded data removed]",
            "text/plain": [
              "<Figure size 1440x576 with 3 Axes>"
            ]
          },
          "metadata": {
            "tags": [],
            "needs_background": "light"
          }
        }
      ]
    },
    {
      "cell_type": "code",
      "metadata": {
        "id": "Lfvy_WtXNwx1",
        "colab_type": "code",
        "colab": {}
      },
      "source": [
        ""
      ],
      "execution_count": null,
      "outputs": []
    },
    {
      "cell_type": "code",
      "metadata": {
        "id": "JqqkSuf9Nrie",
        "colab_type": "code",
        "colab": {}
      },
      "source": [
        ""
      ],
      "execution_count": null,
      "outputs": []
    },
    {
      "cell_type": "code",
      "metadata": {
        "id": "u_hhzyBYNu1j",
        "colab_type": "code",
        "colab": {
          "base_uri": "https://localhost:8080/",
          "height": 34
        },
        "outputId": "713b396d-a33f-48a8-a2e6-45f1fddb3549"
      },
      "source": [
        "comb"
      ],
      "execution_count": null,
      "outputs": [
        {
          "output_type": "execute_result",
          "data": {
            "text/plain": [
              "[[3, 5], [5, 7], [7, 3]]"
            ]
          },
          "metadata": {
            "tags": []
          },
          "execution_count": 63
        }
      ]
    },
    {
      "cell_type": "code",
      "metadata": {
        "id": "j2_MjZ3_NvjT",
        "colab_type": "code",
        "colab": {}
      },
      "source": [
        ""
      ],
      "execution_count": null,
      "outputs": []
    }
  ]
}