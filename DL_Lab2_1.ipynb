{
 "cells": [
  {
   "cell_type": "code",
   "execution_count": 1,
   "metadata": {},
   "outputs": [],
   "source": [
    "import pandas as pd"
   ]
  },
  {
   "cell_type": "code",
   "execution_count": 2,
   "metadata": {},
   "outputs": [],
   "source": [
    "df= pd.read_excel(\"Online Retail.xlsx\")"
   ]
  },
  {
   "cell_type": "code",
   "execution_count": 3,
   "metadata": {},
   "outputs": [
    {
     "data": {
      "text/plain": [
       "(541909, 8)"
      ]
     },
     "execution_count": 3,
     "metadata": {},
     "output_type": "execute_result"
    }
   ],
   "source": [
    "df.shape"
   ]
  },
  {
   "cell_type": "code",
   "execution_count": 4,
   "metadata": {},
   "outputs": [
    {
     "data": {
      "text/plain": [
       "Index(['InvoiceNo', 'StockCode', 'Description', 'Quantity', 'InvoiceDate',\n",
       "       'UnitPrice', 'CustomerID', 'Country'],\n",
       "      dtype='object')"
      ]
     },
     "execution_count": 4,
     "metadata": {},
     "output_type": "execute_result"
    }
   ],
   "source": [
    "df.columns"
   ]
  },
  {
   "cell_type": "code",
   "execution_count": 5,
   "metadata": {},
   "outputs": [
    {
     "name": "stdout",
     "output_type": "stream",
     "text": [
      "<class 'pandas.core.frame.DataFrame'>\n",
      "RangeIndex: 541909 entries, 0 to 541908\n",
      "Data columns (total 8 columns):\n",
      " #   Column       Non-Null Count   Dtype         \n",
      "---  ------       --------------   -----         \n",
      " 0   InvoiceNo    541909 non-null  object        \n",
      " 1   StockCode    541909 non-null  object        \n",
      " 2   Description  540455 non-null  object        \n",
      " 3   Quantity     541909 non-null  int64         \n",
      " 4   InvoiceDate  541909 non-null  datetime64[ns]\n",
      " 5   UnitPrice    541909 non-null  float64       \n",
      " 6   CustomerID   406829 non-null  float64       \n",
      " 7   Country      541909 non-null  object        \n",
      "dtypes: datetime64[ns](1), float64(2), int64(1), object(4)\n",
      "memory usage: 33.1+ MB\n"
     ]
    }
   ],
   "source": [
    "df.info()"
   ]
  },
  {
   "cell_type": "code",
   "execution_count": 6,
   "metadata": {},
   "outputs": [],
   "source": [
    "new_df = df[df['InvoiceNo']==536544].iloc[:,:4]"
   ]
  },
  {
   "cell_type": "code",
   "execution_count": 7,
   "metadata": {},
   "outputs": [
    {
     "data": {
      "text/html": [
       "<div>\n",
       "<style scoped>\n",
       "    .dataframe tbody tr th:only-of-type {\n",
       "        vertical-align: middle;\n",
       "    }\n",
       "\n",
       "    .dataframe tbody tr th {\n",
       "        vertical-align: top;\n",
       "    }\n",
       "\n",
       "    .dataframe thead th {\n",
       "        text-align: right;\n",
       "    }\n",
       "</style>\n",
       "<table border=\"1\" class=\"dataframe\">\n",
       "  <thead>\n",
       "    <tr style=\"text-align: right;\">\n",
       "      <th></th>\n",
       "      <th>InvoiceNo</th>\n",
       "      <th>StockCode</th>\n",
       "      <th>Description</th>\n",
       "      <th>Quantity</th>\n",
       "    </tr>\n",
       "  </thead>\n",
       "  <tbody>\n",
       "    <tr>\n",
       "      <th>1443</th>\n",
       "      <td>536544</td>\n",
       "      <td>21773</td>\n",
       "      <td>DECORATIVE ROSE BATHROOM BOTTLE</td>\n",
       "      <td>1</td>\n",
       "    </tr>\n",
       "    <tr>\n",
       "      <th>1444</th>\n",
       "      <td>536544</td>\n",
       "      <td>21774</td>\n",
       "      <td>DECORATIVE CATS BATHROOM BOTTLE</td>\n",
       "      <td>2</td>\n",
       "    </tr>\n",
       "    <tr>\n",
       "      <th>1445</th>\n",
       "      <td>536544</td>\n",
       "      <td>21786</td>\n",
       "      <td>POLKADOT RAIN HAT</td>\n",
       "      <td>4</td>\n",
       "    </tr>\n",
       "    <tr>\n",
       "      <th>1446</th>\n",
       "      <td>536544</td>\n",
       "      <td>21787</td>\n",
       "      <td>RAIN PONCHO RETROSPOT</td>\n",
       "      <td>2</td>\n",
       "    </tr>\n",
       "    <tr>\n",
       "      <th>1447</th>\n",
       "      <td>536544</td>\n",
       "      <td>21790</td>\n",
       "      <td>VINTAGE SNAP CARDS</td>\n",
       "      <td>9</td>\n",
       "    </tr>\n",
       "    <tr>\n",
       "      <th>...</th>\n",
       "      <td>...</td>\n",
       "      <td>...</td>\n",
       "      <td>...</td>\n",
       "      <td>...</td>\n",
       "    </tr>\n",
       "    <tr>\n",
       "      <th>1965</th>\n",
       "      <td>536544</td>\n",
       "      <td>21721</td>\n",
       "      <td>CANDY SHOP  STICKER SHEET</td>\n",
       "      <td>1</td>\n",
       "    </tr>\n",
       "    <tr>\n",
       "      <th>1966</th>\n",
       "      <td>536544</td>\n",
       "      <td>21722</td>\n",
       "      <td>SWEET PUDDING STICKER SHEET</td>\n",
       "      <td>1</td>\n",
       "    </tr>\n",
       "    <tr>\n",
       "      <th>1967</th>\n",
       "      <td>536544</td>\n",
       "      <td>21731</td>\n",
       "      <td>RED TOADSTOOL LED NIGHT LIGHT</td>\n",
       "      <td>5</td>\n",
       "    </tr>\n",
       "    <tr>\n",
       "      <th>1968</th>\n",
       "      <td>536544</td>\n",
       "      <td>21742</td>\n",
       "      <td>LARGE ROUND WICKER PLATTER</td>\n",
       "      <td>1</td>\n",
       "    </tr>\n",
       "    <tr>\n",
       "      <th>1969</th>\n",
       "      <td>536544</td>\n",
       "      <td>21758</td>\n",
       "      <td>VINTAGE SHELLS PRINT</td>\n",
       "      <td>1</td>\n",
       "    </tr>\n",
       "  </tbody>\n",
       "</table>\n",
       "<p>527 rows × 4 columns</p>\n",
       "</div>"
      ],
      "text/plain": [
       "     InvoiceNo StockCode                      Description  Quantity\n",
       "1443    536544     21773  DECORATIVE ROSE BATHROOM BOTTLE         1\n",
       "1444    536544     21774  DECORATIVE CATS BATHROOM BOTTLE         2\n",
       "1445    536544     21786               POLKADOT RAIN HAT          4\n",
       "1446    536544     21787            RAIN PONCHO RETROSPOT         2\n",
       "1447    536544     21790               VINTAGE SNAP CARDS         9\n",
       "...        ...       ...                              ...       ...\n",
       "1965    536544     21721        CANDY SHOP  STICKER SHEET         1\n",
       "1966    536544     21722      SWEET PUDDING STICKER SHEET         1\n",
       "1967    536544     21731    RED TOADSTOOL LED NIGHT LIGHT         5\n",
       "1968    536544     21742      LARGE ROUND WICKER PLATTER          1\n",
       "1969    536544     21758             VINTAGE SHELLS PRINT         1\n",
       "\n",
       "[527 rows x 4 columns]"
      ]
     },
     "execution_count": 7,
     "metadata": {},
     "output_type": "execute_result"
    }
   ],
   "source": [
    "new_df"
   ]
  },
  {
   "cell_type": "code",
   "execution_count": 8,
   "metadata": {},
   "outputs": [],
   "source": [
    "new_df2= df[['StockCode','UnitPrice']]"
   ]
  },
  {
   "cell_type": "code",
   "execution_count": 9,
   "metadata": {},
   "outputs": [
    {
     "data": {
      "text/html": [
       "<div>\n",
       "<style scoped>\n",
       "    .dataframe tbody tr th:only-of-type {\n",
       "        vertical-align: middle;\n",
       "    }\n",
       "\n",
       "    .dataframe tbody tr th {\n",
       "        vertical-align: top;\n",
       "    }\n",
       "\n",
       "    .dataframe thead th {\n",
       "        text-align: right;\n",
       "    }\n",
       "</style>\n",
       "<table border=\"1\" class=\"dataframe\">\n",
       "  <thead>\n",
       "    <tr style=\"text-align: right;\">\n",
       "      <th></th>\n",
       "      <th>StockCode</th>\n",
       "      <th>UnitPrice</th>\n",
       "    </tr>\n",
       "  </thead>\n",
       "  <tbody>\n",
       "    <tr>\n",
       "      <th>0</th>\n",
       "      <td>85123A</td>\n",
       "      <td>2.55</td>\n",
       "    </tr>\n",
       "    <tr>\n",
       "      <th>1</th>\n",
       "      <td>71053</td>\n",
       "      <td>3.39</td>\n",
       "    </tr>\n",
       "    <tr>\n",
       "      <th>2</th>\n",
       "      <td>84406B</td>\n",
       "      <td>2.75</td>\n",
       "    </tr>\n",
       "    <tr>\n",
       "      <th>3</th>\n",
       "      <td>84029G</td>\n",
       "      <td>3.39</td>\n",
       "    </tr>\n",
       "    <tr>\n",
       "      <th>4</th>\n",
       "      <td>84029E</td>\n",
       "      <td>3.39</td>\n",
       "    </tr>\n",
       "    <tr>\n",
       "      <th>...</th>\n",
       "      <td>...</td>\n",
       "      <td>...</td>\n",
       "    </tr>\n",
       "    <tr>\n",
       "      <th>541904</th>\n",
       "      <td>22613</td>\n",
       "      <td>0.85</td>\n",
       "    </tr>\n",
       "    <tr>\n",
       "      <th>541905</th>\n",
       "      <td>22899</td>\n",
       "      <td>2.10</td>\n",
       "    </tr>\n",
       "    <tr>\n",
       "      <th>541906</th>\n",
       "      <td>23254</td>\n",
       "      <td>4.15</td>\n",
       "    </tr>\n",
       "    <tr>\n",
       "      <th>541907</th>\n",
       "      <td>23255</td>\n",
       "      <td>4.15</td>\n",
       "    </tr>\n",
       "    <tr>\n",
       "      <th>541908</th>\n",
       "      <td>22138</td>\n",
       "      <td>4.95</td>\n",
       "    </tr>\n",
       "  </tbody>\n",
       "</table>\n",
       "<p>541909 rows × 2 columns</p>\n",
       "</div>"
      ],
      "text/plain": [
       "       StockCode  UnitPrice\n",
       "0         85123A       2.55\n",
       "1          71053       3.39\n",
       "2         84406B       2.75\n",
       "3         84029G       3.39\n",
       "4         84029E       3.39\n",
       "...          ...        ...\n",
       "541904     22613       0.85\n",
       "541905     22899       2.10\n",
       "541906     23254       4.15\n",
       "541907     23255       4.15\n",
       "541908     22138       4.95\n",
       "\n",
       "[541909 rows x 2 columns]"
      ]
     },
     "execution_count": 9,
     "metadata": {},
     "output_type": "execute_result"
    }
   ],
   "source": [
    "new_df2"
   ]
  },
  {
   "cell_type": "code",
   "execution_count": 10,
   "metadata": {},
   "outputs": [],
   "source": [
    "vals= new_df2['UnitPrice']"
   ]
  },
  {
   "cell_type": "code",
   "execution_count": 11,
   "metadata": {},
   "outputs": [
    {
     "data": {
      "text/plain": [
       "4.611113626083471"
      ]
     },
     "execution_count": 11,
     "metadata": {},
     "output_type": "execute_result"
    }
   ],
   "source": [
    "vals.mean()"
   ]
  },
  {
   "cell_type": "code",
   "execution_count": 12,
   "metadata": {},
   "outputs": [
    {
     "data": {
      "text/plain": [
       "96.75985306119716"
      ]
     },
     "execution_count": 12,
     "metadata": {},
     "output_type": "execute_result"
    }
   ],
   "source": [
    "vals.std()"
   ]
  },
  {
   "cell_type": "code",
   "execution_count": 13,
   "metadata": {},
   "outputs": [
    {
     "data": {
      "text/plain": [
       "-11062.06"
      ]
     },
     "execution_count": 13,
     "metadata": {},
     "output_type": "execute_result"
    }
   ],
   "source": [
    "min(vals)"
   ]
  },
  {
   "cell_type": "code",
   "execution_count": 14,
   "metadata": {},
   "outputs": [
    {
     "data": {
      "text/plain": [
       "38970.0"
      ]
     },
     "execution_count": 14,
     "metadata": {},
     "output_type": "execute_result"
    }
   ],
   "source": [
    "max(vals)"
   ]
  },
  {
   "cell_type": "code",
   "execution_count": 15,
   "metadata": {},
   "outputs": [
    {
     "data": {
      "text/plain": [
       "541909"
      ]
     },
     "execution_count": 15,
     "metadata": {},
     "output_type": "execute_result"
    }
   ],
   "source": [
    "vals.count()"
   ]
  },
  {
   "cell_type": "code",
   "execution_count": 16,
   "metadata": {},
   "outputs": [
    {
     "data": {
      "text/plain": [
       "2.08"
      ]
     },
     "execution_count": 16,
     "metadata": {},
     "output_type": "execute_result"
    }
   ],
   "source": [
    "vals.median()"
   ]
  },
  {
   "cell_type": "code",
   "execution_count": 17,
   "metadata": {},
   "outputs": [
    {
     "data": {
      "text/plain": [
       "2498803.9739972674"
      ]
     },
     "execution_count": 17,
     "metadata": {},
     "output_type": "execute_result"
    }
   ],
   "source": [
    "sum(vals)"
   ]
  },
  {
   "cell_type": "code",
   "execution_count": 18,
   "metadata": {},
   "outputs": [
    {
     "data": {
      "text/plain": [
       "9362.469164424467"
      ]
     },
     "execution_count": 18,
     "metadata": {},
     "output_type": "execute_result"
    }
   ],
   "source": [
    "vals.var()"
   ]
  },
  {
   "cell_type": "code",
   "execution_count": 19,
   "metadata": {},
   "outputs": [],
   "source": [
    "#skipping first 100 rows"
   ]
  },
  {
   "cell_type": "code",
   "execution_count": 20,
   "metadata": {},
   "outputs": [],
   "source": [
    "new_df3= df.iloc[100:,:]"
   ]
  },
  {
   "cell_type": "code",
   "execution_count": 21,
   "metadata": {},
   "outputs": [],
   "source": [
    "new_df3=new_df3.sort_values(by=\"InvoiceDate\")"
   ]
  },
  {
   "cell_type": "code",
   "execution_count": 22,
   "metadata": {},
   "outputs": [
    {
     "data": {
      "text/plain": [
       "array(['TOMATO CHARLIE+LOLA COASTER SET',\n",
       "       'CHARLIE & LOLA WASTEPAPER BIN FLORA',\n",
       "       'RED CHARLIE+LOLA PERSONAL DOORSIGN', ..., 'lost',\n",
       "       'CREAM HANGING HEART T-LIGHT HOLDER',\n",
       "       'PAPER CRAFT , LITTLE BIRDIE'], dtype=object)"
      ]
     },
     "execution_count": 22,
     "metadata": {},
     "output_type": "execute_result"
    }
   ],
   "source": [
    "new_df3['Description'].unique()"
   ]
  },
  {
   "cell_type": "code",
   "execution_count": 28,
   "metadata": {},
   "outputs": [],
   "source": [
    "a=[]\n",
    "for i in new_df3['Description'].values:\n",
    "    try:\n",
    "        \n",
    "        a.append(i[0]=='D')\n",
    "    except:\n",
    "        a.append('N.A')"
   ]
  },
  {
   "cell_type": "code",
   "execution_count": 30,
   "metadata": {},
   "outputs": [],
   "source": [
    "new_df3['condt']=a"
   ]
  },
  {
   "cell_type": "code",
   "execution_count": 31,
   "metadata": {},
   "outputs": [
    {
     "data": {
      "text/html": [
       "<div>\n",
       "<style scoped>\n",
       "    .dataframe tbody tr th:only-of-type {\n",
       "        vertical-align: middle;\n",
       "    }\n",
       "\n",
       "    .dataframe tbody tr th {\n",
       "        vertical-align: top;\n",
       "    }\n",
       "\n",
       "    .dataframe thead th {\n",
       "        text-align: right;\n",
       "    }\n",
       "</style>\n",
       "<table border=\"1\" class=\"dataframe\">\n",
       "  <thead>\n",
       "    <tr style=\"text-align: right;\">\n",
       "      <th></th>\n",
       "      <th>InvoiceNo</th>\n",
       "      <th>StockCode</th>\n",
       "      <th>Description</th>\n",
       "      <th>Quantity</th>\n",
       "      <th>InvoiceDate</th>\n",
       "      <th>UnitPrice</th>\n",
       "      <th>CustomerID</th>\n",
       "      <th>Country</th>\n",
       "      <th>condt</th>\n",
       "    </tr>\n",
       "  </thead>\n",
       "  <tbody>\n",
       "    <tr>\n",
       "      <th>140</th>\n",
       "      <td>536381</td>\n",
       "      <td>21523</td>\n",
       "      <td>DOORMAT FANCY FONT HOME SWEET HOME</td>\n",
       "      <td>10</td>\n",
       "      <td>2010-12-01 09:41:00</td>\n",
       "      <td>6.75</td>\n",
       "      <td>15311.0</td>\n",
       "      <td>United Kingdom</td>\n",
       "      <td>True</td>\n",
       "    </tr>\n",
       "    <tr>\n",
       "      <th>141</th>\n",
       "      <td>C536379</td>\n",
       "      <td>D</td>\n",
       "      <td>Discount</td>\n",
       "      <td>-1</td>\n",
       "      <td>2010-12-01 09:41:00</td>\n",
       "      <td>27.50</td>\n",
       "      <td>14527.0</td>\n",
       "      <td>United Kingdom</td>\n",
       "      <td>True</td>\n",
       "    </tr>\n",
       "    <tr>\n",
       "      <th>185</th>\n",
       "      <td>536388</td>\n",
       "      <td>21523</td>\n",
       "      <td>DOORMAT FANCY FONT HOME SWEET HOME</td>\n",
       "      <td>2</td>\n",
       "      <td>2010-12-01 09:59:00</td>\n",
       "      <td>7.95</td>\n",
       "      <td>16250.0</td>\n",
       "      <td>United Kingdom</td>\n",
       "      <td>True</td>\n",
       "    </tr>\n",
       "    <tr>\n",
       "      <th>228</th>\n",
       "      <td>536390</td>\n",
       "      <td>22654</td>\n",
       "      <td>DELUXE SEWING KIT</td>\n",
       "      <td>40</td>\n",
       "      <td>2010-12-01 10:19:00</td>\n",
       "      <td>4.95</td>\n",
       "      <td>17511.0</td>\n",
       "      <td>United Kingdom</td>\n",
       "      <td>True</td>\n",
       "    </tr>\n",
       "    <tr>\n",
       "      <th>219</th>\n",
       "      <td>536390</td>\n",
       "      <td>20668</td>\n",
       "      <td>DISCO BALL CHRISTMAS DECORATION</td>\n",
       "      <td>288</td>\n",
       "      <td>2010-12-01 10:19:00</td>\n",
       "      <td>0.10</td>\n",
       "      <td>17511.0</td>\n",
       "      <td>United Kingdom</td>\n",
       "      <td>True</td>\n",
       "    </tr>\n",
       "    <tr>\n",
       "      <th>...</th>\n",
       "      <td>...</td>\n",
       "      <td>...</td>\n",
       "      <td>...</td>\n",
       "      <td>...</td>\n",
       "      <td>...</td>\n",
       "      <td>...</td>\n",
       "      <td>...</td>\n",
       "      <td>...</td>\n",
       "      <td>...</td>\n",
       "    </tr>\n",
       "    <tr>\n",
       "      <th>541653</th>\n",
       "      <td>581538</td>\n",
       "      <td>23033</td>\n",
       "      <td>DRAWER KNOB CERAMIC RED</td>\n",
       "      <td>1</td>\n",
       "      <td>2011-12-09 11:34:00</td>\n",
       "      <td>1.45</td>\n",
       "      <td>14446.0</td>\n",
       "      <td>United Kingdom</td>\n",
       "      <td>True</td>\n",
       "    </tr>\n",
       "    <tr>\n",
       "      <th>541651</th>\n",
       "      <td>581538</td>\n",
       "      <td>23034</td>\n",
       "      <td>DRAWER KNOB CERAMIC BLACK</td>\n",
       "      <td>1</td>\n",
       "      <td>2011-12-09 11:34:00</td>\n",
       "      <td>1.45</td>\n",
       "      <td>14446.0</td>\n",
       "      <td>United Kingdom</td>\n",
       "      <td>True</td>\n",
       "    </tr>\n",
       "    <tr>\n",
       "      <th>541727</th>\n",
       "      <td>581570</td>\n",
       "      <td>23077</td>\n",
       "      <td>DOUGHNUT LIP GLOSS</td>\n",
       "      <td>20</td>\n",
       "      <td>2011-12-09 11:59:00</td>\n",
       "      <td>1.25</td>\n",
       "      <td>12662.0</td>\n",
       "      <td>Germany</td>\n",
       "      <td>True</td>\n",
       "    </tr>\n",
       "    <tr>\n",
       "      <th>541733</th>\n",
       "      <td>581571</td>\n",
       "      <td>48187</td>\n",
       "      <td>DOORMAT NEW ENGLAND</td>\n",
       "      <td>1</td>\n",
       "      <td>2011-12-09 12:00:00</td>\n",
       "      <td>8.25</td>\n",
       "      <td>15311.0</td>\n",
       "      <td>United Kingdom</td>\n",
       "      <td>True</td>\n",
       "    </tr>\n",
       "    <tr>\n",
       "      <th>541893</th>\n",
       "      <td>581586</td>\n",
       "      <td>20685</td>\n",
       "      <td>DOORMAT RED RETROSPOT</td>\n",
       "      <td>10</td>\n",
       "      <td>2011-12-09 12:49:00</td>\n",
       "      <td>7.08</td>\n",
       "      <td>13113.0</td>\n",
       "      <td>United Kingdom</td>\n",
       "      <td>True</td>\n",
       "    </tr>\n",
       "  </tbody>\n",
       "</table>\n",
       "<p>19404 rows × 9 columns</p>\n",
       "</div>"
      ],
      "text/plain": [
       "       InvoiceNo StockCode                         Description  Quantity  \\\n",
       "140       536381     21523  DOORMAT FANCY FONT HOME SWEET HOME        10   \n",
       "141      C536379         D                            Discount        -1   \n",
       "185       536388     21523  DOORMAT FANCY FONT HOME SWEET HOME         2   \n",
       "228       536390     22654                  DELUXE SEWING KIT         40   \n",
       "219       536390     20668     DISCO BALL CHRISTMAS DECORATION       288   \n",
       "...          ...       ...                                 ...       ...   \n",
       "541653    581538     23033             DRAWER KNOB CERAMIC RED         1   \n",
       "541651    581538     23034           DRAWER KNOB CERAMIC BLACK         1   \n",
       "541727    581570     23077                 DOUGHNUT LIP GLOSS         20   \n",
       "541733    581571     48187                 DOORMAT NEW ENGLAND         1   \n",
       "541893    581586     20685               DOORMAT RED RETROSPOT        10   \n",
       "\n",
       "               InvoiceDate  UnitPrice  CustomerID         Country condt  \n",
       "140    2010-12-01 09:41:00       6.75     15311.0  United Kingdom  True  \n",
       "141    2010-12-01 09:41:00      27.50     14527.0  United Kingdom  True  \n",
       "185    2010-12-01 09:59:00       7.95     16250.0  United Kingdom  True  \n",
       "228    2010-12-01 10:19:00       4.95     17511.0  United Kingdom  True  \n",
       "219    2010-12-01 10:19:00       0.10     17511.0  United Kingdom  True  \n",
       "...                    ...        ...         ...             ...   ...  \n",
       "541653 2011-12-09 11:34:00       1.45     14446.0  United Kingdom  True  \n",
       "541651 2011-12-09 11:34:00       1.45     14446.0  United Kingdom  True  \n",
       "541727 2011-12-09 11:59:00       1.25     12662.0         Germany  True  \n",
       "541733 2011-12-09 12:00:00       8.25     15311.0  United Kingdom  True  \n",
       "541893 2011-12-09 12:49:00       7.08     13113.0  United Kingdom  True  \n",
       "\n",
       "[19404 rows x 9 columns]"
      ]
     },
     "execution_count": 31,
     "metadata": {},
     "output_type": "execute_result"
    }
   ],
   "source": [
    "new_df3[new_df3['condt']==True]"
   ]
  },
  {
   "cell_type": "code",
   "execution_count": 33,
   "metadata": {},
   "outputs": [
    {
     "name": "stdout",
     "output_type": "stream",
     "text": [
      "  student name date of birth  marks in maths\n",
      "0        Manav    03/09/2000             100\n",
      "1       Raghav    02/08/2000              98\n",
      "2        Mehek    21/07/1999              70\n",
      "3        Mansi    10/07/2000              80\n",
      "4        Harsh    15/06/2000              95\n",
      "[100, 98, 70, 80, 95]\n"
     ]
    }
   ],
   "source": [
    "#lists of lists\n",
    "student=[['student name','date of birth','marks in maths'],\n",
    "         ['Manav','03/09/2000',100],\n",
    "        ['Raghav','02/08/2000',98],\n",
    "        ['Mehek','21/07/1999',70],\n",
    "        ['Mansi','10/07/2000',80],\n",
    "        ['Harsh','15/06/2000',95]]\n",
    "headers=student.pop(0)\n",
    "studentdf=pd.DataFrame(student,columns=headers)\n",
    "print(studentdf)\n",
    "print(studentdf['marks in maths'].tolist())"
   ]
  },
  {
   "cell_type": "code",
   "execution_count": 34,
   "metadata": {},
   "outputs": [
    {
     "name": "stdout",
     "output_type": "stream",
     "text": [
      "  student name date of birth  marks in maths\n",
      "0        Manav    03/09/2000             100\n",
      "1       Raghav    02/08/2000              98\n",
      "2        Mehek    21/07/1999              70\n",
      "3        Mansi    10/07/2000              80\n",
      "4        Harsh    15/06/2000              95\n"
     ]
    }
   ],
   "source": [
    "#dict of narray/lists\n",
    "student1={'student name':['Manav','Raghav','Mehek','Mansi','Harsh'],\n",
    "          'date of birth':['03/09/2000', '02/08/2000', '21/07/1999', '10/07/2000', '15/06/2000'],\n",
    "          'marks in maths':[100, 98, 70, 80, 95]}\n",
    "studentdf1=pd.DataFrame(student1)\n",
    "print(studentdf1)"
   ]
  },
  {
   "cell_type": "code",
   "execution_count": 36,
   "metadata": {},
   "outputs": [
    {
     "name": "stdout",
     "output_type": "stream",
     "text": [
      "  student name date of birth  marks in maths\n",
      "0        Manav    03/09/2000             100\n",
      "1       Raghav    02/08/2000              98\n",
      "2        Mehek    21/07/1999              70\n",
      "3        Mansi    10/07/2000              80\n",
      "4        Harsh    15/06/2000              95\n"
     ]
    }
   ],
   "source": [
    "#list of dicts\n",
    "student2=[{'student name': 'Manav', 'date of birth': '03/09/2000', 'marks in maths': 100},\n",
    "          {'student name': 'Raghav', 'date of birth': '02/08/2000', 'marks in maths': 98}, \n",
    "          {'student name': 'Mehek', 'date of birth': '21/07/1999', 'marks in maths': 70},\n",
    "          {'student name': 'Mansi', 'date of birth': '10/07/2000', 'marks in maths': 80},\n",
    "          {'student name': 'Harsh', 'date of birth': '15/06/2000', 'marks in maths': 95}]\n",
    "studentdf2=pd.DataFrame(student2)\n",
    "print(studentdf2)"
   ]
  },
  {
   "cell_type": "code",
   "execution_count": 38,
   "metadata": {},
   "outputs": [
    {
     "name": "stdout",
     "output_type": "stream",
     "text": [
      "  student name date of birth  marks in maths\n",
      "0        Manav    03/09/2000             100\n",
      "1       Raghav    02/08/2000              98\n",
      "2        Mehek    21/07/1999              70\n",
      "3        Mansi    10/07/2000              80\n",
      "4        Harsh    15/06/2000              95\n"
     ]
    }
   ],
   "source": [
    "student3={'student name': pd.Series(['Manav','Raghav','Mehek','Mansi','Harsh']),\n",
    "         'date of birth': pd.Series(['03/09/2000', '02/08/2000', '21/07/1999', '10/07/2000', '15/06/2000']),\n",
    "         'marks in maths': pd.Series([100, 98, 70, 80, 95])}\n",
    "studentdf3=pd.DataFrame(student3)\n",
    "print(studentdf3)"
   ]
  },
  {
   "cell_type": "code",
   "execution_count": 42,
   "metadata": {},
   "outputs": [
    {
     "name": "stdout",
     "output_type": "stream",
     "text": [
      "Empty DataFrame\n",
      "Columns: [student name, date of birth, marks in maths]\n",
      "Index: []\n"
     ]
    }
   ],
   "source": [
    "#empty dataframe\n",
    "studentdf4=pd.DataFrame(columns=['student name','date of birth','marks in maths'])\n",
    "print(studentdf4)"
   ]
  },
  {
   "cell_type": "code",
   "execution_count": 43,
   "metadata": {},
   "outputs": [
    {
     "name": "stdout",
     "output_type": "stream",
     "text": [
      "  student name date of birth marks in maths\n",
      "0        Manav    03/09/2000            100\n"
     ]
    }
   ],
   "source": [
    "studentdf4=studentdf4.append({'student name' :'Manav', \n",
    "                             'date of birth': '03/09/2000', 'marks in maths': 100},ignore_index=True)\n",
    "print(studentdf4)"
   ]
  },
  {
   "cell_type": "code",
   "execution_count": 44,
   "metadata": {},
   "outputs": [
    {
     "name": "stdout",
     "output_type": "stream",
     "text": [
      "  student name date of birth marks in maths\n",
      "0        Manav    03/09/2000            100\n",
      "1       Raghav    02/08/2000             98\n"
     ]
    }
   ],
   "source": [
    "studentdf4=studentdf4.append({'student name': 'Raghav', 'date of birth': '02/08/2000', 'marks in maths': 98},ignore_index=True)\n",
    "print(studentdf4)"
   ]
  },
  {
   "cell_type": "code",
   "execution_count": 45,
   "metadata": {},
   "outputs": [
    {
     "name": "stdout",
     "output_type": "stream",
     "text": [
      "  student name date of birth marks in maths\n",
      "0        Manav    03/09/2000            100\n",
      "1       Raghav    02/08/2000             98\n",
      "2        Mehek    21/07/1999             70\n"
     ]
    }
   ],
   "source": [
    "studentdf4=studentdf4.append({'student name': 'Mehek', 'date of birth': '21/07/1999', 'marks in maths': 70}\n",
    "                            ,ignore_index=True)\n",
    "print(studentdf4)"
   ]
  },
  {
   "cell_type": "code",
   "execution_count": 46,
   "metadata": {},
   "outputs": [
    {
     "name": "stdout",
     "output_type": "stream",
     "text": [
      "  student name date of birth marks in maths\n",
      "0        Manav    03/09/2000            100\n",
      "1       Raghav    02/08/2000             98\n",
      "2        Mehek    21/07/1999             70\n",
      "3        Mansi    10/07/2000             80\n"
     ]
    }
   ],
   "source": [
    "studentdf4=studentdf4.append({'student name': 'Mansi', 'date of birth': '10/07/2000', 'marks in maths': 80}\n",
    "                            ,ignore_index=True)\n",
    "print(studentdf4)"
   ]
  },
  {
   "cell_type": "code",
   "execution_count": 47,
   "metadata": {},
   "outputs": [
    {
     "name": "stdout",
     "output_type": "stream",
     "text": [
      "  student name date of birth marks in maths\n",
      "0        Manav    03/09/2000            100\n",
      "1       Raghav    02/08/2000             98\n",
      "2        Mehek    21/07/1999             70\n",
      "3        Mansi    10/07/2000             80\n",
      "4        Harsh    15/06/2000             95\n"
     ]
    }
   ],
   "source": [
    "studentdf4=studentdf4.append({'student name': 'Harsh', 'date of birth': '15/06/2000', 'marks in maths': 95}\n",
    "                            ,ignore_index=True)\n",
    "print(studentdf4)"
   ]
  },
  {
   "cell_type": "code",
   "execution_count": 49,
   "metadata": {},
   "outputs": [
    {
     "name": "stdout",
     "output_type": "stream",
     "text": [
      "    number 1  number 2       add       sub      mult       div\n",
      "0  -0.106477 -1.373543 -1.480020  1.267066  0.146251  0.077520\n",
      "1   0.796568  1.070924  1.867493 -0.274356  0.853065  0.743814\n",
      "2   0.247578  1.292974  1.540553 -1.045396  0.320112  0.191480\n",
      "3   0.718105  1.586022  2.304127 -0.867917  1.138931  0.452771\n",
      "4   1.226359 -1.062560  0.163800  2.288919 -1.303080 -1.154156\n",
      "..       ...       ...       ...       ...       ...       ...\n",
      "95  1.709321 -0.297641  1.411680  2.006962 -0.508764 -5.742894\n",
      "96 -1.477968  0.354235 -1.123733 -1.832204 -0.523549 -4.172278\n",
      "97  1.152009 -0.994802  0.157208  2.146811 -1.146021 -1.158029\n",
      "98  1.617832  1.077881  2.695712  0.539951  1.743829  1.500938\n",
      "99 -1.000973 -2.088190 -3.089163  1.087217  2.090222  0.479350\n",
      "\n",
      "[100 rows x 6 columns]\n"
     ]
    }
   ],
   "source": [
    "import numpy as np\n",
    "n01=pd.Series(np.random.randn(100))\n",
    "n02=pd.Series(np.random.randn(100))\n",
    "add=n01+n02\n",
    "sub=n01-n02\n",
    "mult=n01*n02\n",
    "div=n01/n02\n",
    "print(pd.DataFrame({'number 1':n01,'number 2':n02,'add':add,'sub':sub,'mult':mult,'div':div}))"
   ]
  },
  {
   "cell_type": "code",
   "execution_count": null,
   "metadata": {},
   "outputs": [],
   "source": []
  }
 ],
 "metadata": {
  "kernelspec": {
   "display_name": "Python 3",
   "language": "python",
   "name": "python3"
  },
  "language_info": {
   "codemirror_mode": {
    "name": "ipython",
    "version": 3
   },
   "file_extension": ".py",
   "mimetype": "text/x-python",
   "name": "python",
   "nbconvert_exporter": "python",
   "pygments_lexer": "ipython3",
   "version": "3.7.6"
  }
 },
 "nbformat": 4,
 "nbformat_minor": 4
}
